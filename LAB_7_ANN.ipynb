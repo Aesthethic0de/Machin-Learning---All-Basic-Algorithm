{
 "cells": [
  {
   "cell_type": "code",
   "execution_count": 1,
   "metadata": {},
   "outputs": [
    {
     "data": {
      "text/plain": [
       "'2.4.1'"
      ]
     },
     "execution_count": 1,
     "metadata": {},
     "output_type": "execute_result"
    }
   ],
   "source": [
    "import numpy as np\n",
    "import pandas as pd\n",
    "import tensorflow as tf\n",
    "tf.__version__\n"
   ]
  },
  {
   "cell_type": "code",
   "execution_count": 2,
   "metadata": {},
   "outputs": [
    {
     "name": "stdout",
     "output_type": "stream",
     "text": [
      "[[619 'France' 'Female' ... 1 1 101348.88]\n",
      " [608 'Spain' 'Female' ... 0 1 112542.58]\n",
      " [502 'France' 'Female' ... 1 0 113931.57]\n",
      " ...\n",
      " [709 'France' 'Female' ... 0 1 42085.58]\n",
      " [772 'Germany' 'Male' ... 1 0 92888.52]\n",
      " [792 'France' 'Female' ... 1 0 38190.78]]\n",
      "[1 0 1 ... 1 1 0]\n"
     ]
    }
   ],
   "source": [
    "# Importing the dataset\n",
    "dataset = pd.read_csv('Churn_Modelling.csv')\n",
    "X = dataset.iloc[:, 3:-1].values\n",
    "y = dataset.iloc[:, -1].values\n",
    "print(X)\n",
    "print(y)\n"
   ]
  },
  {
   "cell_type": "code",
   "execution_count": 3,
   "metadata": {},
   "outputs": [
    {
     "name": "stdout",
     "output_type": "stream",
     "text": [
      "[[619 'France' 0 ... 1 1 101348.88]\n",
      " [608 'Spain' 0 ... 0 1 112542.58]\n",
      " [502 'France' 0 ... 1 0 113931.57]\n",
      " ...\n",
      " [709 'France' 0 ... 0 1 42085.58]\n",
      " [772 'Germany' 1 ... 1 0 92888.52]\n",
      " [792 'France' 0 ... 1 0 38190.78]]\n",
      "[[1.0 0.0 0.0 ... 1 1 101348.88]\n",
      " [0.0 0.0 1.0 ... 0 1 112542.58]\n",
      " [1.0 0.0 0.0 ... 1 0 113931.57]\n",
      " ...\n",
      " [1.0 0.0 0.0 ... 0 1 42085.58]\n",
      " [0.0 1.0 0.0 ... 1 0 92888.52]\n",
      " [1.0 0.0 0.0 ... 1 0 38190.78]]\n"
     ]
    }
   ],
   "source": [
    "# Encoding categorical data\n",
    "# Label Encoding the \"Gender\" column\n",
    "from sklearn.preprocessing import LabelEncoder\n",
    "le = LabelEncoder()\n",
    "X[:, 2] = le.fit_transform(X[:, 2])\n",
    "print(X)\n",
    "# One Hot Encoding the \"Geography\" column\n",
    "from sklearn.compose import ColumnTransformer\n",
    "from sklearn.preprocessing import OneHotEncoder\n",
    "ct = ColumnTransformer(transformers=[('encoder', OneHotEncoder(), [1])], remainder='passthrough')\n",
    "X = np.array(ct.fit_transform(X))\n",
    "print(X)\n"
   ]
  },
  {
   "cell_type": "code",
   "execution_count": 4,
   "metadata": {},
   "outputs": [],
   "source": [
    "# Splitting the dataset into the Training set and Test set\n",
    "from sklearn.model_selection import train_test_split\n",
    "X_train, X_test, y_train, y_test = train_test_split(X, y, test_size = 0.2, random_state = 0)"
   ]
  },
  {
   "cell_type": "code",
   "execution_count": 5,
   "metadata": {},
   "outputs": [],
   "source": [
    "# Feature Scaling\n",
    "from sklearn.preprocessing import StandardScaler\n",
    "sc = StandardScaler()\n",
    "X_train = sc.fit_transform(X_train)\n",
    "X_test = sc.transform(X_test)\n"
   ]
  },
  {
   "cell_type": "code",
   "execution_count": 7,
   "metadata": {},
   "outputs": [
    {
     "data": {
      "text/plain": [
       "array([[-1.01460667, -0.5698444 ,  1.74309049, ...,  0.64259497,\n",
       "        -1.03227043,  1.10643166],\n",
       "       [-1.01460667,  1.75486502, -0.57369368, ...,  0.64259497,\n",
       "         0.9687384 , -0.74866447],\n",
       "       [ 0.98560362, -0.5698444 , -0.57369368, ...,  0.64259497,\n",
       "        -1.03227043,  1.48533467],\n",
       "       ...,\n",
       "       [ 0.98560362, -0.5698444 , -0.57369368, ...,  0.64259497,\n",
       "        -1.03227043,  1.41231994],\n",
       "       [-1.01460667, -0.5698444 ,  1.74309049, ...,  0.64259497,\n",
       "         0.9687384 ,  0.84432121],\n",
       "       [-1.01460667,  1.75486502, -0.57369368, ...,  0.64259497,\n",
       "        -1.03227043,  0.32472465]])"
      ]
     },
     "execution_count": 7,
     "metadata": {},
     "output_type": "execute_result"
    }
   ],
   "source": [
    "X_train"
   ]
  },
  {
   "cell_type": "code",
   "execution_count": 8,
   "metadata": {},
   "outputs": [
    {
     "data": {
      "text/plain": [
       "array([[-1.01460667,  1.75486502, -0.57369368, ...,  0.64259497,\n",
       "         0.9687384 ,  1.61085707],\n",
       "       [ 0.98560362, -0.5698444 , -0.57369368, ...,  0.64259497,\n",
       "        -1.03227043,  0.49587037],\n",
       "       [-1.01460667, -0.5698444 ,  1.74309049, ...,  0.64259497,\n",
       "         0.9687384 , -0.42478674],\n",
       "       ...,\n",
       "       [-1.01460667, -0.5698444 ,  1.74309049, ...,  0.64259497,\n",
       "        -1.03227043,  0.71888467],\n",
       "       [-1.01460667,  1.75486502, -0.57369368, ...,  0.64259497,\n",
       "         0.9687384 , -1.54507805],\n",
       "       [-1.01460667,  1.75486502, -0.57369368, ...,  0.64259497,\n",
       "        -1.03227043,  1.61255917]])"
      ]
     },
     "execution_count": 8,
     "metadata": {},
     "output_type": "execute_result"
    }
   ],
   "source": [
    "X_test"
   ]
  },
  {
   "cell_type": "code",
   "execution_count": 9,
   "metadata": {},
   "outputs": [],
   "source": [
    "# Initializing the ANN\n",
    "ann = tf.keras.models.Sequential()\n",
    "\n",
    "# Adding the input layer and the first hidden layer\n",
    "ann.add(tf.keras.layers.Dense(units=6, activation='relu'))\n",
    "\n",
    "# Adding the second hidden layer\n",
    "ann.add(tf.keras.layers.Dense(units=6, activation='relu'))\n",
    "\n",
    "# Adding the output layer\n",
    "ann.add(tf.keras.layers.Dense(units=1, activation='sigmoid'))\n"
   ]
  },
  {
   "cell_type": "code",
   "execution_count": 10,
   "metadata": {
    "scrolled": false
   },
   "outputs": [
    {
     "name": "stdout",
     "output_type": "stream",
     "text": [
      "Epoch 1/100\n",
      "250/250 [==============================] - 0s 350us/step - loss: 0.6176 - accuracy: 0.7000\n",
      "Epoch 2/100\n",
      "250/250 [==============================] - 0s 318us/step - loss: 0.4753 - accuracy: 0.7965\n",
      "Epoch 3/100\n",
      "250/250 [==============================] - 0s 326us/step - loss: 0.4707 - accuracy: 0.7897\n",
      "Epoch 4/100\n",
      "250/250 [==============================] - 0s 334us/step - loss: 0.4409 - accuracy: 0.7999\n",
      "Epoch 5/100\n",
      "250/250 [==============================] - 0s 326us/step - loss: 0.4412 - accuracy: 0.7958\n",
      "Epoch 6/100\n",
      "250/250 [==============================] - 0s 318us/step - loss: 0.4284 - accuracy: 0.7991\n",
      "Epoch 7/100\n",
      "250/250 [==============================] - 0s 314us/step - loss: 0.4392 - accuracy: 0.7914\n",
      "Epoch 8/100\n",
      "250/250 [==============================] - 0s 314us/step - loss: 0.4220 - accuracy: 0.8015\n",
      "Epoch 9/100\n",
      "250/250 [==============================] - 0s 322us/step - loss: 0.4223 - accuracy: 0.8049\n",
      "Epoch 10/100\n",
      "250/250 [==============================] - 0s 322us/step - loss: 0.4163 - accuracy: 0.8070\n",
      "Epoch 11/100\n",
      "250/250 [==============================] - 0s 334us/step - loss: 0.4139 - accuracy: 0.8137\n",
      "Epoch 12/100\n",
      "250/250 [==============================] - 0s 318us/step - loss: 0.4099 - accuracy: 0.8153\n",
      "Epoch 13/100\n",
      "250/250 [==============================] - 0s 318us/step - loss: 0.4028 - accuracy: 0.8246\n",
      "Epoch 14/100\n",
      "250/250 [==============================] - 0s 318us/step - loss: 0.3960 - accuracy: 0.8285\n",
      "Epoch 15/100\n",
      "250/250 [==============================] - 0s 334us/step - loss: 0.3920 - accuracy: 0.8347\n",
      "Epoch 16/100\n",
      "250/250 [==============================] - 0s 326us/step - loss: 0.3876 - accuracy: 0.8331\n",
      "Epoch 17/100\n",
      "250/250 [==============================] - 0s 338us/step - loss: 0.3716 - accuracy: 0.8474\n",
      "Epoch 18/100\n",
      "250/250 [==============================] - 0s 322us/step - loss: 0.3729 - accuracy: 0.8455\n",
      "Epoch 19/100\n",
      "250/250 [==============================] - 0s 334us/step - loss: 0.3711 - accuracy: 0.8430\n",
      "Epoch 20/100\n",
      "250/250 [==============================] - 0s 334us/step - loss: 0.3632 - accuracy: 0.8493\n",
      "Epoch 21/100\n",
      "250/250 [==============================] - 0s 326us/step - loss: 0.3504 - accuracy: 0.8536\n",
      "Epoch 22/100\n",
      "250/250 [==============================] - 0s 334us/step - loss: 0.3610 - accuracy: 0.8514\n",
      "Epoch 23/100\n",
      "250/250 [==============================] - 0s 326us/step - loss: 0.3620 - accuracy: 0.8475\n",
      "Epoch 24/100\n",
      "250/250 [==============================] - 0s 330us/step - loss: 0.3589 - accuracy: 0.8511\n",
      "Epoch 25/100\n",
      "250/250 [==============================] - 0s 342us/step - loss: 0.3579 - accuracy: 0.8521\n",
      "Epoch 26/100\n",
      "250/250 [==============================] - 0s 320us/step - loss: 0.3556 - accuracy: 0.8547\n",
      "Epoch 27/100\n",
      "250/250 [==============================] - 0s 317us/step - loss: 0.3615 - accuracy: 0.8515\n",
      "Epoch 28/100\n",
      "250/250 [==============================] - 0s 318us/step - loss: 0.3554 - accuracy: 0.8502\n",
      "Epoch 29/100\n",
      "250/250 [==============================] - 0s 318us/step - loss: 0.3541 - accuracy: 0.8535\n",
      "Epoch 30/100\n",
      "250/250 [==============================] - 0s 314us/step - loss: 0.3670 - accuracy: 0.8525\n",
      "Epoch 31/100\n",
      "250/250 [==============================] - 0s 318us/step - loss: 0.3496 - accuracy: 0.8582\n",
      "Epoch 32/100\n",
      "250/250 [==============================] - 0s 326us/step - loss: 0.3571 - accuracy: 0.8434\n",
      "Epoch 33/100\n",
      "250/250 [==============================] - 0s 322us/step - loss: 0.3555 - accuracy: 0.8526\n",
      "Epoch 34/100\n",
      "250/250 [==============================] - 0s 314us/step - loss: 0.3388 - accuracy: 0.8636\n",
      "Epoch 35/100\n",
      "250/250 [==============================] - 0s 312us/step - loss: 0.3495 - accuracy: 0.8583\n",
      "Epoch 36/100\n",
      "250/250 [==============================] - 0s 322us/step - loss: 0.3461 - accuracy: 0.8578\n",
      "Epoch 37/100\n",
      "250/250 [==============================] - 0s 318us/step - loss: 0.3465 - accuracy: 0.8602\n",
      "Epoch 38/100\n",
      "250/250 [==============================] - 0s 322us/step - loss: 0.3476 - accuracy: 0.8564\n",
      "Epoch 39/100\n",
      "250/250 [==============================] - 0s 318us/step - loss: 0.3539 - accuracy: 0.8540\n",
      "Epoch 40/100\n",
      "250/250 [==============================] - 0s 326us/step - loss: 0.3512 - accuracy: 0.8555\n",
      "Epoch 41/100\n",
      "250/250 [==============================] - 0s 327us/step - loss: 0.3411 - accuracy: 0.8606\n",
      "Epoch 42/100\n",
      "250/250 [==============================] - 0s 334us/step - loss: 0.3405 - accuracy: 0.8575\n",
      "Epoch 43/100\n",
      "250/250 [==============================] - 0s 326us/step - loss: 0.3459 - accuracy: 0.8555\n",
      "Epoch 44/100\n",
      "250/250 [==============================] - 0s 330us/step - loss: 0.3449 - accuracy: 0.8566\n",
      "Epoch 45/100\n",
      "250/250 [==============================] - 0s 322us/step - loss: 0.3333 - accuracy: 0.8632\n",
      "Epoch 46/100\n",
      "250/250 [==============================] - 0s 327us/step - loss: 0.3348 - accuracy: 0.8671\n",
      "Epoch 47/100\n",
      "250/250 [==============================] - 0s 334us/step - loss: 0.3361 - accuracy: 0.8656\n",
      "Epoch 48/100\n",
      "250/250 [==============================] - 0s 322us/step - loss: 0.3362 - accuracy: 0.8654\n",
      "Epoch 49/100\n",
      "250/250 [==============================] - 0s 326us/step - loss: 0.3347 - accuracy: 0.8609\n",
      "Epoch 50/100\n",
      "250/250 [==============================] - 0s 334us/step - loss: 0.3448 - accuracy: 0.8541\n",
      "Epoch 51/100\n",
      "250/250 [==============================] - 0s 326us/step - loss: 0.3451 - accuracy: 0.8603\n",
      "Epoch 52/100\n",
      "250/250 [==============================] - 0s 334us/step - loss: 0.3368 - accuracy: 0.8602\n",
      "Epoch 53/100\n",
      "250/250 [==============================] - 0s 338us/step - loss: 0.3521 - accuracy: 0.8551\n",
      "Epoch 54/100\n",
      "250/250 [==============================] - 0s 330us/step - loss: 0.3359 - accuracy: 0.8610\n",
      "Epoch 55/100\n",
      "250/250 [==============================] - 0s 326us/step - loss: 0.3423 - accuracy: 0.8591\n",
      "Epoch 56/100\n",
      "250/250 [==============================] - 0s 326us/step - loss: 0.3280 - accuracy: 0.8680\n",
      "Epoch 57/100\n",
      "250/250 [==============================] - 0s 326us/step - loss: 0.3418 - accuracy: 0.8629\n",
      "Epoch 58/100\n",
      "250/250 [==============================] - 0s 330us/step - loss: 0.3512 - accuracy: 0.8586\n",
      "Epoch 59/100\n",
      "250/250 [==============================] - 0s 322us/step - loss: 0.3481 - accuracy: 0.8526\n",
      "Epoch 60/100\n",
      "250/250 [==============================] - 0s 318us/step - loss: 0.3327 - accuracy: 0.8654\n",
      "Epoch 61/100\n",
      "250/250 [==============================] - 0s 314us/step - loss: 0.3279 - accuracy: 0.8715\n",
      "Epoch 62/100\n",
      "250/250 [==============================] - 0s 314us/step - loss: 0.3337 - accuracy: 0.8638\n",
      "Epoch 63/100\n",
      "250/250 [==============================] - 0s 326us/step - loss: 0.3384 - accuracy: 0.8641\n",
      "Epoch 64/100\n",
      "250/250 [==============================] - 0s 330us/step - loss: 0.3284 - accuracy: 0.8669\n",
      "Epoch 65/100\n",
      "250/250 [==============================] - 0s 330us/step - loss: 0.3477 - accuracy: 0.8538\n",
      "Epoch 66/100\n",
      "250/250 [==============================] - 0s 326us/step - loss: 0.3437 - accuracy: 0.8556\n",
      "Epoch 67/100\n",
      "250/250 [==============================] - 0s 334us/step - loss: 0.3351 - accuracy: 0.8611\n",
      "Epoch 68/100\n",
      "250/250 [==============================] - 0s 338us/step - loss: 0.3368 - accuracy: 0.8632\n",
      "Epoch 69/100\n",
      "250/250 [==============================] - 0s 326us/step - loss: 0.3424 - accuracy: 0.8641\n",
      "Epoch 70/100\n",
      "250/250 [==============================] - 0s 330us/step - loss: 0.3392 - accuracy: 0.8586\n",
      "Epoch 71/100\n",
      "250/250 [==============================] - 0s 330us/step - loss: 0.3340 - accuracy: 0.8621\n",
      "Epoch 72/100\n",
      "250/250 [==============================] - 0s 334us/step - loss: 0.3259 - accuracy: 0.8661\n",
      "Epoch 73/100\n",
      "250/250 [==============================] - 0s 342us/step - loss: 0.3515 - accuracy: 0.8523\n",
      "Epoch 74/100\n",
      "250/250 [==============================] - 0s 338us/step - loss: 0.3351 - accuracy: 0.8661\n",
      "Epoch 75/100\n",
      "250/250 [==============================] - 0s 322us/step - loss: 0.3427 - accuracy: 0.8596\n",
      "Epoch 76/100\n",
      "250/250 [==============================] - 0s 338us/step - loss: 0.3463 - accuracy: 0.8591\n",
      "Epoch 77/100\n",
      "250/250 [==============================] - 0s 326us/step - loss: 0.3337 - accuracy: 0.8632\n",
      "Epoch 78/100\n",
      "250/250 [==============================] - 0s 330us/step - loss: 0.3409 - accuracy: 0.8606\n",
      "Epoch 79/100\n"
     ]
    },
    {
     "name": "stdout",
     "output_type": "stream",
     "text": [
      "250/250 [==============================] - 0s 330us/step - loss: 0.3405 - accuracy: 0.8571\n",
      "Epoch 80/100\n",
      "250/250 [==============================] - 0s 322us/step - loss: 0.3414 - accuracy: 0.8561\n",
      "Epoch 81/100\n",
      "250/250 [==============================] - 0s 322us/step - loss: 0.3318 - accuracy: 0.8619\n",
      "Epoch 82/100\n",
      "250/250 [==============================] - 0s 334us/step - loss: 0.3317 - accuracy: 0.8633\n",
      "Epoch 83/100\n",
      "250/250 [==============================] - 0s 326us/step - loss: 0.3428 - accuracy: 0.8600\n",
      "Epoch 84/100\n",
      "250/250 [==============================] - 0s 330us/step - loss: 0.3452 - accuracy: 0.8585\n",
      "Epoch 85/100\n",
      "250/250 [==============================] - 0s 334us/step - loss: 0.3444 - accuracy: 0.8548\n",
      "Epoch 86/100\n",
      "250/250 [==============================] - 0s 326us/step - loss: 0.3350 - accuracy: 0.8664\n",
      "Epoch 87/100\n",
      "250/250 [==============================] - 0s 330us/step - loss: 0.3326 - accuracy: 0.8624\n",
      "Epoch 88/100\n",
      "250/250 [==============================] - 0s 326us/step - loss: 0.3316 - accuracy: 0.8660\n",
      "Epoch 89/100\n",
      "250/250 [==============================] - 0s 310us/step - loss: 0.3358 - accuracy: 0.8591\n",
      "Epoch 90/100\n",
      "250/250 [==============================] - 0s 314us/step - loss: 0.3301 - accuracy: 0.8587\n",
      "Epoch 91/100\n",
      "250/250 [==============================] - 0s 318us/step - loss: 0.3355 - accuracy: 0.8654\n",
      "Epoch 92/100\n",
      "250/250 [==============================] - 0s 326us/step - loss: 0.3400 - accuracy: 0.8613\n",
      "Epoch 93/100\n",
      "250/250 [==============================] - 0s 334us/step - loss: 0.3329 - accuracy: 0.8618\n",
      "Epoch 94/100\n",
      "250/250 [==============================] - 0s 330us/step - loss: 0.3290 - accuracy: 0.8685\n",
      "Epoch 95/100\n",
      "250/250 [==============================] - 0s 322us/step - loss: 0.3340 - accuracy: 0.8649\n",
      "Epoch 96/100\n",
      "250/250 [==============================] - 0s 330us/step - loss: 0.3412 - accuracy: 0.8605\n",
      "Epoch 97/100\n",
      "250/250 [==============================] - 0s 330us/step - loss: 0.3407 - accuracy: 0.8640\n",
      "Epoch 98/100\n",
      "250/250 [==============================] - 0s 326us/step - loss: 0.3384 - accuracy: 0.8654\n",
      "Epoch 99/100\n",
      "250/250 [==============================] - 0s 322us/step - loss: 0.3434 - accuracy: 0.8549\n",
      "Epoch 100/100\n",
      "250/250 [==============================] - 0s 326us/step - loss: 0.3351 - accuracy: 0.8626\n"
     ]
    },
    {
     "data": {
      "text/plain": [
       "<tensorflow.python.keras.callbacks.History at 0x22c450d85b0>"
      ]
     },
     "execution_count": 10,
     "metadata": {},
     "output_type": "execute_result"
    }
   ],
   "source": [
    "# Training the ANN\n",
    "\n",
    "# Compiling the ANN\n",
    "ann.compile(optimizer = 'adam', loss = 'binary_crossentropy', metrics = ['accuracy'])\n",
    "\n",
    "# Training the ANN on the Training set\n",
    "ann.fit(X_train, y_train, batch_size = 32, epochs = 100)"
   ]
  },
  {
   "cell_type": "code",
   "execution_count": 17,
   "metadata": {},
   "outputs": [
    {
     "name": "stdout",
     "output_type": "stream",
     "text": [
      "[[False]]\n"
     ]
    }
   ],
   "source": [
    "# Predicting the result of a single observation\n",
    "\n",
    "# Homework:\n",
    "#Use our ANN model to predict if the customer with the following informations will leave the bank: \n",
    "#Geography: France\n",
    "#Credit Score: 600\n",
    "#Gender: Male\n",
    "#Age: 40 years old\n",
    "#Tenure: 3 years\n",
    "#Balance: $ 60000\n",
    "#Number of Products: 2\n",
    "#Does this customer have a credit card? Yes\n",
    "#Is this customer an Active Member: Yes\n",
    "#Estimated Salary: $ 50000\n",
    "#So, should we say goodbye to that customer?\n",
    "#Making the predictions and evaluating the model\n",
    "\n",
    "print(ann.predict(sc.transform([[1, 0, 0, 600, 1, 40, 3, 60000, 2, 1, 1, 50000]])) > 0.5)"
   ]
  },
  {
   "cell_type": "code",
   "execution_count": 18,
   "metadata": {},
   "outputs": [
    {
     "name": "stdout",
     "output_type": "stream",
     "text": [
      "[[0 0]\n",
      " [0 1]\n",
      " [0 0]\n",
      " ...\n",
      " [0 0]\n",
      " [0 0]\n",
      " [0 0]]\n"
     ]
    }
   ],
   "source": [
    "y_pred = ann.predict(X_test)\n",
    "y_pred = (y_pred > 0.5)\n",
    "print(np.concatenate((y_pred.reshape(len(y_pred),1), y_test.reshape(len(y_test),1)),1))"
   ]
  },
  {
   "cell_type": "code",
   "execution_count": 19,
   "metadata": {},
   "outputs": [
    {
     "name": "stdout",
     "output_type": "stream",
     "text": [
      "[[1504   91]\n",
      " [ 188  217]]\n"
     ]
    },
    {
     "data": {
      "text/plain": [
       "0.8605"
      ]
     },
     "execution_count": 19,
     "metadata": {},
     "output_type": "execute_result"
    }
   ],
   "source": [
    "# Making the Confusion Matrix\n",
    "from sklearn.metrics import confusion_matrix, accuracy_score\n",
    "cm = confusion_matrix(y_test, y_pred)\n",
    "print(cm)\n",
    "accuracy_score(y_test, y_pred)"
   ]
  },
  {
   "cell_type": "code",
   "execution_count": null,
   "metadata": {},
   "outputs": [],
   "source": []
  }
 ],
 "metadata": {
  "kernelspec": {
   "display_name": "Python 3",
   "language": "python",
   "name": "python3"
  },
  "language_info": {
   "codemirror_mode": {
    "name": "ipython",
    "version": 3
   },
   "file_extension": ".py",
   "mimetype": "text/x-python",
   "name": "python",
   "nbconvert_exporter": "python",
   "pygments_lexer": "ipython3",
   "version": "3.8.5"
  }
 },
 "nbformat": 4,
 "nbformat_minor": 4
}
